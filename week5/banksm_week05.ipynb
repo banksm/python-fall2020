{
 "cells": [
  {
   "cell_type": "markdown",
   "metadata": {},
   "source": [
    "### Getting into Class\n",
    "This exercise is to get you familiar with the idea of creating your own class object.\n",
    "\n",
    "This will create a generic Student class that we will be able to extend with other class objects.\n",
    "\n",
    "Your Class should be able to create an Student object instance with the following properties\n",
    "\n",
    "- Construct with default attributes for School Name, Student First Name, and Last Name\n",
    "- Methods to update any of these above attributes\n",
    "- An overloaded method for the str() function to return the Student attributes in a string formatted sentence \"{FirstName} {LastName} is a student of {SchoolName}\"\n",
    "\n",
    "You are free to implement this class however you like. The testing code is included below. Don't be afraid to check the [documentation]('https://docs.python.org/3/tutorial/classes.html') or any other resources you would like! Internet searching is a big part of promgramming"
   ]
  },
  {
   "cell_type": "code",
   "execution_count": 85,
   "metadata": {},
   "outputs": [
    {
     "name": "stdout",
     "output_type": "stream",
     "text": [
      "Marcus Banks is a student of Parsons\n"
     ]
    }
   ],
   "source": [
    "# code here\n",
    "\n",
    "class Student():\n",
    "    \n",
    "    def __init__(self, FirstName, LastName, SchoolName, GradYear, CourseLoad, Major, GPA):\n",
    "        self.FirstName = FirstName\n",
    "        self.LastName = LastName\n",
    "        self.SchoolName = SchoolName\n",
    "        self.GradYear = GradYear\n",
    "        self.CourseLoad = CourseLoad\n",
    "        self.Major = Major\n",
    "        self.GPA = GPA\n",
    "    \n",
    "    def return_student_info(self):\n",
    "        print(self.FirstName, self.LastName, \"is a student of\", self.SchoolName)\n",
    "        \n",
    "     \n",
    "    Marcus = Student(\"Marcus\", \"Banks\", \"Parsons\",  2020, \"six\", \"MFA DT\",3.8)\n",
    "    Marcus.return_student_info()    \n"
   ]
  },
  {
   "cell_type": "markdown",
   "metadata": {},
   "source": [
    "### Challenges\n",
    "Before looking at any of these specific challenges, look back at the class you've created. Are there features of Students that you think are missing? Go ahead and just try and add them yourself! These can be things like registered classes, graduation year, enrollment status, etc. Anything you can think of! Class flexibility is designed so that your approach reflects your own personal understanding of the problem. But for a more structured challenge read on...\n",
    "\n",
    "The challenges here extend the functionality of the base class. These are in topics of class attributes, magic methods, inheritance, and iteration. Don't be afraid to check python documentation on these problems to look for implementation help! No one codes alone!\n",
    "\n",
    "Class is where your own ideas get to come through as a programmer and designer. So there is no one right way to any of these. Give it your best shot and also be creative!\n",
    "\n",
    "__Challenge #1__ add an class wide attribute student count and give every student an ID\n",
    "Create a Class wide count of students that tracks how many students have been created. Then, usi that attriute to give every student a unique ID.\n",
    "\n",
    "__Challenge #2__ add a behavioral method to the students\n",
    "What kind of behavior should a student have? What do they do? Do they study? Research? Maybe a student can declare a major or focus of study?\n",
    "\n",
    "Implement the method and the appropriate attributes that allows a student to print a statement about themselves. These can be as simple as \"say my own name\" or something like printing the student's favorite faculty member\n",
    "\n",
    "__Challenge #3__ create a subclass called Graduate Student\n",
    "The Graduate student should inherit from the base Student class. How do you think Graduate Students should be differentiated from the base Student? Add your own attribute or methods that you think they should have.\n",
    "\n",
    "__Challenge #4__ Create a School Class that has Students as attributes\n",
    "This is a separate class that is called School that can enroll Students, and graduate students. Maybe it can track its own endowment. This would be a large class that is meant to process these students in some way."
   ]
  },
  {
   "cell_type": "code",
   "execution_count": 86,
   "metadata": {
    "scrolled": true
   },
   "outputs": [
    {
     "name": "stdout",
     "output_type": "stream",
     "text": [
      "Marcus Banks is a student of Parsons . They graduate in 2020 and currently they are taking six courses. Their major is MFA DT and their current GPA is 3.8 Their student id is 0\n",
      "Ben Banks is a student of Parsons . They graduate in 2020 and currently they are taking six courses. Their major is MFA DT and their current GPA is 3.8 Their student id is 1\n"
     ]
    }
   ],
   "source": [
    "# challenge 1\n",
    "from itertools import count \n",
    "\n",
    "class Student():\n",
    "    \n",
    "    ID = count(0)\n",
    "              \n",
    "    def __init__(self, FirstName, LastName, SchoolName, GradYear, CourseLoad, Major, GPA, ID):\n",
    "        self.FirstName = FirstName\n",
    "        self.LastName = LastName\n",
    "        self.SchoolName = SchoolName\n",
    "        self.GradYear = GradYear\n",
    "        self.CourseLoad = CourseLoad\n",
    "        self.Major = Major\n",
    "        self.GPA = GPA\n",
    "        self.ID = next(self.ID) \n",
    "                 \n",
    "    def return_student_info(self):\n",
    "        print(self.FirstName, self.LastName, \"is a student of\", self.SchoolName,\".\", \"They graduate in\", self.GradYear, \"and currently they are taking\", self.CourseLoad, \"courses.\", \"Their major is\", self.Major, \"and their current GPA is\", self.GPA, \"Their student id is\", self.ID)     \n",
    " \n",
    "    def study(self, Hours):\n",
    "        self.Hours = Hours\n",
    "        \n",
    "    def return_study_hours(self):\n",
    "        print(\"My Name is\", self.FirstName, \"and on average I study\", self.Hours, \"hrs per week\")\n",
    "    \n",
    "Marcus = Student(\"Marcus\", \"Banks\", \"Parsons\", 2020, \"six\", \"MFA DT\", 3.8, 1)\n",
    "Marcus.return_student_info()    \n",
    "    \n",
    "Ben = Student(\"Ben\", \"Banks\", \"Parsons\", 2020, \"six\", \"MFA DT\", 3.8, 1)\n",
    "Ben.return_student_info() "
   ]
  },
  {
   "cell_type": "code",
   "execution_count": 87,
   "metadata": {},
   "outputs": [
    {
     "name": "stdout",
     "output_type": "stream",
     "text": [
      "My Name is Marcus and on average I study 18 hrs per week\n",
      "My Name is Ben and on average I study 20 hrs per week\n"
     ]
    }
   ],
   "source": [
    "Marcus.study(18)\n",
    "Ben.study(20)\n",
    "\n",
    "Marcus.return_study_hours()\n",
    "Ben.return_study_hours()"
   ]
  },
  {
   "cell_type": "code",
   "execution_count": 93,
   "metadata": {},
   "outputs": [
    {
     "name": "stdout",
     "output_type": "stream",
     "text": [
      "Jerry Banks is a student of Parsons . They graduate in 2020 and currently they are taking six courses. Their major is MFA DT and their current GPA is 3.8 Their student id is 6 I work in Lab Manager and I like researching Microbiology I also teach Science\n",
      "My Name is Jerry and on average I study 22 hrs per week\n"
     ]
    }
   ],
   "source": [
    "class GradStudent(Student):\n",
    "        def __init__(self, FirstName, LastName, SchoolName, GradYear, CourseLoad, Major, GPA, ID, Work, Research, Teaching):\n",
    "            self.FirstName = FirstName\n",
    "            self.LastName = LastName\n",
    "            self.SchoolName = SchoolName\n",
    "            self.GradYear = GradYear\n",
    "            self.CourseLoad = CourseLoad\n",
    "            self.Major = Major\n",
    "            self.GPA = GPA\n",
    "            self.ID = next(self.ID)\n",
    "            self.Work = Work\n",
    "            self.Research = Research \n",
    "            self.Teaching = Teaching\n",
    "            super(Student).__init__()\n",
    "        \n",
    "       \n",
    "        def return_grad_student(self):\n",
    "            print(self.FirstName, self.LastName, \"is a student of\", self.SchoolName,\".\", \"They graduate in\", self.GradYear, \"and currently they are taking\", self.CourseLoad, \"courses.\", \"Their major is\", self.Major, \"and their current GPA is\", self.GPA, \"Their student id is\", self.ID, \"I work in\", self.Work, \"and I like researching\", self.Research, \"I also teach\", self.Teaching)\n",
    "    \n",
    "Jerry = GradStudent(\"Jerry\", \"Banks\", \"Parsons\", 2020, \"six\", \"MFA DT\", 3.8, 1, \"Lab Manager\", \"Microbiology\", \"Science\")\n",
    "Jerry.return_grad_student()\n",
    "\n",
    "Jerry.study(22)\n",
    "Jerry.return_study_hours()\n",
    "\n"
   ]
  },
  {
   "cell_type": "code",
   "execution_count": null,
   "metadata": {},
   "outputs": [],
   "source": [
    "# challenge 4\n",
    "\n",
    "\n",
    "\n"
   ]
  }
 ],
 "metadata": {
  "kernelspec": {
   "display_name": "Python 3",
   "language": "python",
   "name": "python3"
  },
  "language_info": {
   "codemirror_mode": {
    "name": "ipython",
    "version": 3
   },
   "file_extension": ".py",
   "mimetype": "text/x-python",
   "name": "python",
   "nbconvert_exporter": "python",
   "pygments_lexer": "ipython3",
   "version": "3.7.6"
  }
 },
 "nbformat": 4,
 "nbformat_minor": 4
}
