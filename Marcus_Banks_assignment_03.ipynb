
    "# Exercise 1 Code Here: Marcus Banks Thanksgiving Madlib\n",
    "\n",
    "#On Thanksgiving you will be eating _\"food_name\"_______ and sitting next to _\"relative_name\"_____. Unfortunately, they smell like _\"funny_smell\"_____ \n",
    "#which makes you want to _\"action\"_______. Seasons Greetings! \n",
    "\n",
    "\n",
    "import random\n",
    "\n",
    "def event (food_name, relative_name, funny_smell, action):\n",
    "    \n",
    "    def getRand(list):\n",
    "        return random.choice(list)   \n",
    "\n",
    "food=random.choice(food_list)\n",
    "relative_name=random.choice(relationship_list)\n",
    "funny_smell=random.choice(smell_list)\n",
    "action=random.choice(action_list)\n",
    "    \n",
    "invite_template = '''\n",
    "    On Thanksgiving you will be eating %s and sitting next to %s. \n",
    "    Unfortunately, they smell like %s which makes you want to %s. \n",
    "    Seasons Greetings! \n",
    "'''\n",
    "\n",
    "food_list = (\"uncooked turkey\", \"leeches\", \"rotten eggs\", \"nothing\")\n",
    "relationship_list = (\"your first crush\", \"your fat uncle Charlie\", \"Beetlejuice\", \"Donald Trump's kids\")\n",
    "smell_list = (\"an old diaper\", \"dirty gym socks\", \"a dead tooth\", \"a bacterial culture gone bad\", \"coronavirus\")\n",
    "action_list = (\"rip your nose off\", \"burn the house down\", \"flip the table and ruin the entire dinner\", \"bathe them in bleach\")\n",
    "\n",
    "\n",
    "print(invite_template %(food, relative_name, funny_smell, action))\n",
    "\n",
    "\n",
    "\n"
   ]
  },
  {
   "cell_type": "markdown",
   "metadata": {},
   "source": [
    "### Exercise 2: \n",
    "\n",
    "### What is a palindrome?\n",
    "A palindrome is a word or phrase that is spelled the same forwards as backwards, like:\n",
    "\n",
    "```\n",
    "wow\n",
    "Anna\n",
    "race car\n",
    "Was it a cat I saw?\n",
    "```\n",
    "\n",
    "Create a function that checks whether or not a given phrase is a palindrome. Here's the plan:\n",
    "* Our function will be called `isPalindrome()`.\n",
    "* It will accept one **argument** called `txt`, which is a string.\n",
    "* It will print True if `txt` is a palindrome or `False` if `txt`\n",
    "  is not a palindrome.\n",
    "\n",
    "### Test your function along the way\n",
    "We will use the following test cases to guide us:\n",
    "\n",
    "The following should all return `True`:\n",
    "```\n",
    "isPalindrome('wow')\n",
    "isPalindrome('12a3a21')\n",
    "isPalindrome('Anna')\n",
    "isPalindrome('race car')\n",
    "isPalindrome('Was it a cat I saw?')\n",
    "```\n",
    "\n",
    "The following should all return `False`:\n",
    "```\n",
    "isPalindrome('wowza')\n",
    "isPalindrome('123a21')\n",
    "isPalindrome('<3 mom <3')\n",
    "```\n",
    "\n",
    "### Things to Consider:\n",
    " - Make everything lowercase.\n",
    " - Replace all spaces with an empty string\n",
    " - Replace all spaces with an empty string\n",
    " - How would we spell a word backwards or forwards?"
   ]
  },
  {
   "cell_type": "code",
   "execution_count": 40,
   "metadata": {},
   "outputs": [
    {
     "name": "stdout",
     "output_type": "stream",
     "text": [
      "String:  mom\n",
      "Is this a Palindrome: Yes\n"
     ]
    }
   ],
   "source": [
    "# Exercise 2 Code Here:\n",
    "def isPalindrome(s):\n",
    "    return a == a[::-1]\n",
    " \n",
    " \n",
    "a = input(\"String:  \")\n",
    "ans = isPalindrome(s)\n",
    " \n",
    "if ans:\n",
    "    print(\"Is this a Palindrome: Yes\")\n",
    "else:\n",
    "    print(\"Is this a Paindrom: No\")\n"
   ]
  },
  {
   "cell_type": "markdown",
   "metadata": {},
   "source": [
    "### Exercise 3: \n",
    "Create a dataset of your own using using a dictionary and make a simple visualization with it. Branch out and see what types of graphs you could use here: https://matplotlib.org/ . Don't be shy to Google things you don't know!!!"
   ]
  },
  {
   "cell_type": "code",
   "execution_count": 49,
   "metadata": {},
   "outputs": [],
   "source": [
    "import matplotlib\n",
    "import matplotlib.pyplot as plt"
   ]
  },
  {
   "cell_type": "code",
   "execution_count": 66,
   "metadata": {},
   "outputs": [
    {
     "data": {
      "image/png": "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\n",
      "text/plain": [
       "<Figure size 432x288 with 1 Axes>"
      ]
     },
     "metadata": {},
     "output_type": "display_data"
    }
   ],
   "source": [
    "# Exercise 3 Code Here:\n",
    "\n",
    "# 32 percent of all healthcare acquired infection are urinary tract infections\n",
    "# 22 percent are surgical site infections\n",
    "# 15 percent are pneumonia (lung infections)\n",
    "# 14 percent are bloodstream infections\n",
    "\n",
    "my_dict = {'UTI': '32', 'SSI': '22', 'Pneumonia': '15', 'Bloodstream':'14', 'Other': '17'}\n",
    "\n",
    "fig1, ax1 = plt.subplots()\n",
    "ax1.pie(my_dict.values(), labels= my_dict.keys(), autopct='%1.0f%%',\n",
    "        shadow=True, startangle=90)\n",
    "ax1.axis('equal')  # Equal aspect ratio ensures that pie is drawn as a circle.\n",
    "\n",
    "plt.show()\n"
   ]
  },
  {
   "cell_type": "code",
   "execution_count": null,
   "metadata": {},
   "outputs": [],
   "source": []
  }
 ],
 "metadata": {
  "kernelspec": {
   "display_name": "Python 3",
   "language": "python",
   "name": "python3"
  },
  "language_info": {
   "codemirror_mode": {
    "name": "ipython",
    "version": 3
   },
   "file_extension": ".py",
   "mimetype": "text/x-python",
   "name": "python",
   "nbconvert_exporter": "python",
   "pygments_lexer": "ipython3",
   "version": "3.7.6"
  }
 },
 "nbformat": 4,
 "nbformat_minor": 4
}
