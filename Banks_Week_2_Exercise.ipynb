{
 "cells": [
  {
   "cell_type": "markdown",
   "metadata": {},
   "source": [
    "# Practice Exercise"
   ]
  },
  {
   "cell_type": "markdown",
   "metadata": {},
   "source": [
    "Exercise 1:"
   ]
  },
  {
   "cell_type": "code",
   "execution_count": null,
   "metadata": {},
   "outputs": [],
   "source": [
    "# using functions and nested functions reformat your calculator code\n",
    "# so users can use our calculator again and again!"
   ]
  },
  {
   "cell_type": "code",
   "execution_count": null,
   "metadata": {
    "scrolled": true
   },
   "outputs": [
    {
     "name": "stdout",
     "output_type": "stream",
     "text": [
      "Run new calculation? (y/n): y\n",
      "My Simple Calculator Options\n",
      "1. Addition\n",
      "2. Subtraction\n",
      "3. Multiplication\n",
      "4. Division\n",
      "Choose from the options(1,2,3,4): 4\n",
      "Enter first number10\n",
      "Enter second number2\n",
      "10 / 2 = 5.0\n"
     ]
    }
   ],
   "source": [
    "def calc():\n",
    "    def add (x,y):\n",
    "        return  x + y\n",
    "\n",
    "    def sub(x,y):\n",
    "        return x - y\n",
    "\n",
    "    def mul(x,y):\n",
    "        return x * y\n",
    "\n",
    "    def div(x,y):\n",
    "        return x / y\n",
    "\n",
    "    print('My Simple Calculator Options')\n",
    "    print('1. Addition')\n",
    "    print('2. Subtraction')\n",
    "    print('3. Multiplication')\n",
    "    print('4. Division')\n",
    "\n",
    "    choice = input('Choose from the options(1,2,3,4): ')\n",
    "    num1 = int(input('Enter first number'))\n",
    "    num2 = int(input('Enter second number'))\n",
    "\n",
    "    if choice == '1':\n",
    "        print(f'{num1} + {num2} = {add(num1, num2)}')\n",
    "    \n",
    "    if choice == '2':\n",
    "        print(f'{num1} - {num2} = {sub(num1, num2)}')\n",
    "\n",
    "    if choice == '3':\n",
    "        print(f'{num1} * {num2} = {mul(num1, num2)}')\n",
    "\n",
    "    if choice == '4':\n",
    "        print(f'{num1} / {num2} = {div(num1, num2)}')\n",
    "\n",
    "while True:\n",
    "    answer = input(\"Run new calculation? (y/n): \")\n",
    "    if answer not in ('y', 'n'):\n",
    "        print(\"Invalid input.\")\n",
    "        break\n",
    "    if answer == 'y':\n",
    "        calc()\n",
    "    else:\n",
    "        print(\"Goodbye\")\n",
    "        break\n",
    "        "
   ]
  },
  {
   "cell_type": "markdown",
   "metadata": {},
   "source": [
    "Exercise 2:"
   ]
  },
  {
   "cell_type": "code",
   "execution_count": 1,
   "metadata": {},
   "outputs": [],
   "source": [
    "# Print the first 10 natural numbers using a loop \n",
    "\n",
    "# Expected output: \n",
    "# 0\n",
    "# 1\n",
    "# 2\n",
    "# 3\n",
    "# 4\n",
    "# 5\n",
    "# 6\n",
    "# 7\n",
    "# 8\n",
    "# 9\n",
    "# 10"
   ]
  },
  {
   "cell_type": "markdown",
   "metadata": {},
   "source": [
    "Write your code below:"
   ]
  },
  {
   "cell_type": "code",
   "execution_count": 10,
   "metadata": {},
   "outputs": [
    {
     "name": "stdout",
     "output_type": "stream",
     "text": [
      "\n",
      "Natural numbers from 1 to 10\n",
      "1\n",
      "2\n",
      "3\n",
      "4\n",
      "5\n",
      "6\n",
      "7\n",
      "8\n",
      "9\n",
      "10\n"
     ]
    }
   ],
   "source": [
    "num = int(10)\n",
    "\n",
    "print(\"\\nNatural numbers from 1 to\", num)\n",
    "\n",
    "for i in range(1, num + 1):\n",
    "    print(i)"
   ]
  },
  {
   "cell_type": "markdown",
   "metadata": {},
   "source": [
    "Exercise 3:"
   ]
  },
  {
   "cell_type": "code",
   "execution_count": 1,
   "metadata": {},
   "outputs": [],
   "source": [
    "# Execute the loop in exercise 1 and print the message Done! after \n",
    "\n",
    "# Expected output: \n",
    "# 0\n",
    "# 1\n",
    "# 2\n",
    "# 3\n",
    "# 4\n",
    "# 5\n",
    "# 6\n",
    "# 7\n",
    "# 8\n",
    "# 9\n",
    "# 10\n",
    "# Done! "
   ]
  },
  {
   "cell_type": "markdown",
   "metadata": {},
   "source": [
    "Write your code below:"
   ]
  },
  {
   "cell_type": "code",
   "execution_count": 18,
   "metadata": {},
   "outputs": [
    {
     "name": "stdout",
     "output_type": "stream",
     "text": [
      "\n",
      "Natural numbers from 1 to 10\n",
      "1\n",
      "2\n",
      "3\n",
      "4\n",
      "5\n",
      "6\n",
      "7\n",
      "8\n",
      "9\n",
      "10\n",
      "Done!\n"
     ]
    }
   ],
   "source": [
    "num = int(10)\n",
    "\n",
    "print(\"\\nNatural numbers from 1 to\", num)\n",
    "\n",
    "for i in range(1, num + 1):\n",
    "    print(i)\n",
    "if i==10:\n",
    "    print(\"Done!\")"
   ]
  },
  {
   "cell_type": "markdown",
   "metadata": {},
   "source": [
    "Exercise 4:"
   ]
  },
  {
   "cell_type": "code",
   "execution_count": 22,
   "metadata": {},
   "outputs": [],
   "source": [
    "# Print the numbers greater than 150 from the list \n",
    "\n",
    "# list = [12, 15, 47, 63, 78, 101, 157, 178, 189]\n",
    "# Expected output: \n",
    "\n",
    "# 157\n",
    "# 178 \n",
    "# 189 "
   ]
  },
  {
   "cell_type": "markdown",
   "metadata": {},
   "source": [
    "Write your code below:"
   ]
  },
  {
   "cell_type": "code",
   "execution_count": 24,
   "metadata": {},
   "outputs": [
    {
     "name": "stdout",
     "output_type": "stream",
     "text": [
      "157 178 189 "
     ]
    }
   ],
   "source": [
    "list = [12, 15, 47, 63, 78, 101, 157, 178, 189]\n",
    "\n",
    "for num in list:\n",
    "    if num >= 150:\n",
    "        print(num, end=\" \")"
   ]
  },
  {
   "cell_type": "markdown",
   "metadata": {},
   "source": [
    "Exercise 5:"
   ]
  },
  {
   "cell_type": "code",
   "execution_count": 4,
   "metadata": {},
   "outputs": [],
   "source": [
    "# Print the number that is even and less than 150 \n",
    "\n",
    "# list = [12, 15, 47, 63, 78, 101, 157, 178, 189]\n",
    "# Expected output: \n",
    "\n",
    "# 12\n",
    "# 78\n",
    "\n",
    "# Hint: if you find a number greater than 150, stop the loop with a break"
   ]
  },
  {
   "cell_type": "markdown",
   "metadata": {},
   "source": [
    "Write your code below:"
   ]
  },
  {
   "cell_type": "code",
   "execution_count": 26,
   "metadata": {},
   "outputs": [
    {
     "name": "stdout",
     "output_type": "stream",
     "text": [
      "12 78 "
     ]
    }
   ],
   "source": [
    "list = [12, 15, 47, 63, 78, 101, 157, 178, 189]\n",
    "\n",
    "for num in list:\n",
    "    if num %2==0 and num<=150:\n",
    "        print(num, end=\" \")"
   ]
  },
  {
   "cell_type": "markdown",
   "metadata": {},
   "source": [
    "Exercise 6:"
   ]
  },
  {
   "cell_type": "code",
   "execution_count": 5,
   "metadata": {},
   "outputs": [],
   "source": [
    "# This will be a challenging!\n",
    "\n",
    "# Write a while loop that flips a coin 10 times\n",
    "\n",
    "# Hint: Look into the random library using: \n",
    "# https://docs.python.org/3/library/random.html\n",
    "# https://www.pythonforbeginners.com/random/how-to-use-the-random-module-in-python"
   ]
  },
  {
   "cell_type": "markdown",
   "metadata": {},
   "source": [
    "Write your code below:"
   ]
  },
  {
   "cell_type": "code",
   "execution_count": 1,
   "metadata": {},
   "outputs": [
    {
     "name": "stdout",
     "output_type": "stream",
     "text": [
      "The number of heads was 2\n",
      "The number of tails was 8\n"
     ]
    }
   ],
   "source": [
    "# importing the python random library\n",
    "import random\n",
    "\n",
    "# set the coin\n",
    "heads, tails, count = 0, 0, 0\n",
    "\n",
    "# loop\n",
    "count = 0\n",
    "while count<10: \n",
    "    coin = random.randrange(2)\n",
    "    if coin == 0:\n",
    "         heads += 1\n",
    "    else:\n",
    "        tails += 1\n",
    "    count += 1\n",
    "\n",
    "print (\"The number of heads was\", heads)\n",
    "print (\"The number of tails was\", tails)\n"
   ]
  },
  {
   "cell_type": "code",
   "execution_count": null,
   "metadata": {},
   "outputs": [],
   "source": []
  }
 ],
 "metadata": {
  "kernelspec": {
   "display_name": "Python 3",
   "language": "python",
   "name": "python3"
  }
 },
 "nbformat": 4,
 "nbformat_minor": 2
}
